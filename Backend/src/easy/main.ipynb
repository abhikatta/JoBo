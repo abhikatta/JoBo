{
 "cells": [
  {
   "cell_type": "code",
   "execution_count": 19,
   "metadata": {},
   "outputs": [
    {
     "name": "stderr",
     "output_type": "stream",
     "text": [
      "Neither CUDA nor MPS are available - defaulting to CPU. Note: This module is much faster with a GPU.\n"
     ]
    }
   ],
   "source": [
    "import easyocr\n",
    "reader = easyocr.Reader(['en'])\n",
    "image=r'D:\\UniPro\\JoBo\\Backend\\Tests\\test\\handwritten_long.jpeg'"
   ]
  },
  {
   "cell_type": "code",
   "execution_count": 13,
   "metadata": {},
   "outputs": [
    {
     "name": "stdout",
     "output_type": "stream",
     "text": [
      "([[10, 14], [113, 14], [113, 62], [10, 62]], 'tello,', 0.4525203401580579)\n",
      "([[9, 59], [291, 59], [291, 119], [9, 119]], 'Sinaly   Natecl', 0.21579403091521981)\n",
      "([[301, 69], [371, 69], [371, 107], [301, 107]], 'has', 0.9452238087620773)\n",
      "([[386, 52], [593, 52], [593, 117], [386, 117]], 'Jevelapeel', 0.5467385601984984)\n",
      "([[12, 110], [229, 110], [229, 158], [12, 158]], 'inereol;bl', 0.5561768991223007)\n",
      "([[253, 116], [478, 116], [478, 172], [253, 172]], 'Prerieary', 0.260287410806084)\n",
      "([[499, 115], [639, 115], [639, 157], [499, 157]], 'rabol ;', 0.48647056424712043)\n",
      "([[3, 154], [194, 154], [194, 218], [3, 218]], 'tehnolgy', 0.762816112400661)\n",
      "([[209, 165], [263, 165], [263, 205], [209, 205]], 't', 0.5937645910889842)\n",
      "([[282, 165], [399, 165], [399, 210], [282, 210]], 'srite', 0.42803162225920216)\n",
      "([[419, 179], [503, 179], [503, 217], [419, 217]], 'YOur', 0.609765887260437)\n",
      "([[524, 173], [663, 173], [663, 213], [524, 213]], 'MeJsage', 0.5993802211252003)\n",
      "([[105, 206], [273, 206], [273, 269], [105, 269]], 'exueloges', 0.2025378530968412)\n",
      "([[290, 215], [399, 215], [399, 259], [290, 259]], 'sifh', 0.620490312576294)\n",
      "([[421, 235], [443, 235], [443, 253], [421, 253]], 'c', 0.8995086143050948)\n",
      "([[461, 220], [623, 220], [623, 265], [461, 265]], 'Jeru;ne', 0.21473663287340722)\n",
      "([[15, 267], [89, 267], [89, 303], [15, 303]], 'ceal', 0.36706721782684326)\n",
      "([[107, 275], [199, 275], [199, 315], [107, 315]], 'pen', 0.3047393198106966)\n",
      "([[229, 261], [304, 261], [304, 304], [229, 304]], 'zt', 0.8048072715762088)\n",
      "([[326, 272], [364, 272], [364, 302], [326, 302]], '\"s', 0.4641536118047676)\n",
      "([[378, 251], [577, 251], [577, 313], [378, 313]], 'com? letely', 0.2405144388462447)\n",
      "([[15, 301], [353, 301], [353, 362], [15, 362]], \"'~;sfiryuishabl\", 0.5475692562741303)\n",
      "([[375, 309], [489, 309], [489, 351], [375, 351]], 'Frons', 0.13468871918248382)\n",
      "([[515, 323], [539, 323], [539, 343], [515, 343]], 'a', 0.9986506487090061)\n",
      "([[565, 309], [692, 309], [692, 352], [565, 352]], 'hunans', 0.25446527463041907)\n",
      "([[9, 348], [228, 348], [228, 412], [9, 412]], 'hanclritiry:', 0.25717597568510675)\n",
      "([[124, 422], [162, 422], [162, 446], [124, 446]], 'u5', 0.8196426168220092)\n",
      "([[176, 394], [319, 394], [319, 459], [176, 459]], \"toJay'\", 0.33510887544508244)\n",
      "([[15, 445], [310, 445], [310, 511], [15, 511]], 'Sinel Aoted', 0.25577049352684245)\n",
      "([[5.903840397404798, 230.13268827818337], [87.47805679420551, 201.40790855680413], [101.09615960259521, 242.86731172181663], [19.52194320579449, 271.59209144319584]], 'Rnc/', 0.22828924655914307)\n",
      "([[31.15046541746177, 398.0726994212783], [110.97220580328617, 426.47353115024026], [94.84953458253823, 465.9273005787217], [16.027794196713828, 436.52646884975974]], 'X', 0.10971097316088674)\n",
      "\n",
      "\n",
      "[[[10, 113, 14, 62], [9, 291, 59, 119], [301, 371, 69, 107], [386, 593, 52, 117], [12, 229, 110, 158], [253, 478, 116, 172], [499, 639, 115, 157], [3, 194, 154, 218], [209, 263, 165, 205], [282, 399, 165, 210], [419, 503, 179, 217], [524, 663, 173, 213], [105, 273, 206, 269], [290, 399, 215, 259], [421, 443, 235, 253], [461, 623, 220, 265], [15, 89, 267, 303], [107, 199, 275, 315], [229, 304, 261, 304], [326, 364, 272, 302], [378, 577, 251, 313], [15, 353, 301, 362], [375, 489, 309, 351], [515, 539, 323, 343], [565, 692, 309, 352], [9, 228, 348, 412], [124, 162, 422, 446], [176, 319, 394, 459], [15, 310, 445, 511]]]\n",
      "[[[[5.903840397404798, 230.13268827818337], [87.47805679420551, 201.40790855680413], [101.09615960259521, 242.86731172181663], [19.52194320579449, 271.59209144319584]], [[31.15046541746177, 398.0726994212783], [110.97220580328617, 426.47353115024026], [94.84953458253823, 465.9273005787217], [16.027794196713828, 436.52646884975974]]]]\n"
     ]
    }
   ],
   "source": [
    "for i in reader.readtext(image=image):\n",
    "    print(i)\n",
    "print('\\n')\n",
    "for i in reader.detect(image):\n",
    "    print(i)\n"
   ]
  },
  {
   "cell_type": "code",
   "execution_count": 20,
   "metadata": {},
   "outputs": [],
   "source": [
    "results=reader.detect(image)"
   ]
  },
  {
   "cell_type": "code",
   "execution_count": 21,
   "metadata": {},
   "outputs": [
    {
     "ename": "IndexError",
     "evalue": "invalid index to scalar variable.",
     "output_type": "error",
     "traceback": [
      "\u001b[1;31m---------------------------------------------------------------------------\u001b[0m",
      "\u001b[1;31mIndexError\u001b[0m                                Traceback (most recent call last)",
      "\u001b[1;32md:\\UniPro\\JoBo\\Backend\\src\\easy\\main.ipynb Cell 4\u001b[0m line \u001b[0;36m1\n\u001b[0;32m      <a href='vscode-notebook-cell:/d%3A/UniPro/JoBo/Backend/src/easy/main.ipynb#X10sZmlsZQ%3D%3D?line=7'>8</a>\u001b[0m \u001b[39mfor\u001b[39;00m word_idx, word_bbox \u001b[39min\u001b[39;00m \u001b[39menumerate\u001b[39m(line):\n\u001b[0;32m      <a href='vscode-notebook-cell:/d%3A/UniPro/JoBo/Backend/src/easy/main.ipynb#X10sZmlsZQ%3D%3D?line=8'>9</a>\u001b[0m     \u001b[39m# Extract coordinates of the bounding box\u001b[39;00m\n\u001b[0;32m     <a href='vscode-notebook-cell:/d%3A/UniPro/JoBo/Backend/src/easy/main.ipynb#X10sZmlsZQ%3D%3D?line=9'>10</a>\u001b[0m     (top_left, top_right, bottom_right, bottom_left) \u001b[39m=\u001b[39m word_bbox\n\u001b[1;32m---> <a href='vscode-notebook-cell:/d%3A/UniPro/JoBo/Backend/src/easy/main.ipynb#X10sZmlsZQ%3D%3D?line=10'>11</a>\u001b[0m     x, y, w, h \u001b[39m=\u001b[39m top_left[\u001b[39m0\u001b[39;49m], top_left[\u001b[39m1\u001b[39m], bottom_right[\u001b[39m0\u001b[39m] \u001b[39m-\u001b[39m top_left[\u001b[39m0\u001b[39m], bottom_right[\u001b[39m1\u001b[39m] \u001b[39m-\u001b[39m top_left[\u001b[39m1\u001b[39m]\n\u001b[0;32m     <a href='vscode-notebook-cell:/d%3A/UniPro/JoBo/Backend/src/easy/main.ipynb#X10sZmlsZQ%3D%3D?line=12'>13</a>\u001b[0m     \u001b[39m# Crop the object using the bounding rectangle of the text region\u001b[39;00m\n\u001b[0;32m     <a href='vscode-notebook-cell:/d%3A/UniPro/JoBo/Backend/src/easy/main.ipynb#X10sZmlsZQ%3D%3D?line=13'>14</a>\u001b[0m     object_image \u001b[39m=\u001b[39m image[y:y\u001b[39m+\u001b[39mh, x:x\u001b[39m+\u001b[39mw]\n",
      "\u001b[1;31mIndexError\u001b[0m: invalid index to scalar variable."
     ]
    }
   ],
   "source": [
    "\n",
    "import cv2\n",
    "\n",
    "image = cv2.imread('image.jpg')\n",
    "\n",
    "# Iterate through the results and create individual images\n",
    "for region_idx, region in enumerate(results):\n",
    "    for line_idx, line in enumerate(region):\n",
    "        for word_idx, word_bbox in enumerate(line):\n",
    "            # Extract coordinates of the bounding box\n",
    "            (top_left, top_right, bottom_right, bottom_left) = word_bbox\n",
    "            x, y, w, h = top_left[0], top_left[1], bottom_right[0] - top_left[0], bottom_right[1] - top_left[1]\n",
    "\n",
    "            # Crop the object using the bounding rectangle of the text region\n",
    "            object_image = image[y:y+h, x:x+w]\n",
    "\n",
    "            # Save the individual object as a separate image\n",
    "            cv2.imwrite(f'region_{region_idx}_line_{line_idx}_word_{word_idx}.jpg', object_image)\n"
   ]
  },
  {
   "cell_type": "code",
   "execution_count": 12,
   "metadata": {},
   "outputs": [
    {
     "ename": "error",
     "evalue": "OpenCV(4.8.1) :-1: error: (-5:Bad argument) in function 'polylines'\n> Overload resolution failed:\n>  - Argument 'isClosed' is not convertable to bool\n>  - Argument 'isClosed' is not convertable to bool\n",
     "output_type": "error",
     "traceback": [
      "\u001b[1;31m---------------------------------------------------------------------------\u001b[0m",
      "\u001b[1;31merror\u001b[0m                                     Traceback (most recent call last)",
      "\u001b[1;32md:\\UniPro\\JoBo\\Backend\\src\\easy\\main.ipynb Cell 5\u001b[0m line \u001b[0;36m2\n\u001b[0;32m     <a href='vscode-notebook-cell:/d%3A/UniPro/JoBo/Backend/src/easy/main.ipynb#W4sZmlsZQ%3D%3D?line=18'>19</a>\u001b[0m \u001b[39mfor\u001b[39;00m cntr \u001b[39min\u001b[39;00m contours:\n\u001b[0;32m     <a href='vscode-notebook-cell:/d%3A/UniPro/JoBo/Backend/src/easy/main.ipynb#W4sZmlsZQ%3D%3D?line=19'>20</a>\u001b[0m     x,y,w,h \u001b[39m=\u001b[39m cv2\u001b[39m.\u001b[39mboundingRect(cntr)\n\u001b[1;32m---> <a href='vscode-notebook-cell:/d%3A/UniPro/JoBo/Backend/src/easy/main.ipynb#W4sZmlsZQ%3D%3D?line=20'>21</a>\u001b[0m     cv2\u001b[39m.\u001b[39;49mpolylines(result, (x, y), (x\u001b[39m+\u001b[39;49mw, y\u001b[39m+\u001b[39;49mh), (\u001b[39m234\u001b[39;49m, \u001b[39m255\u001b[39;49m,\u001b[39m123\u001b[39;49m), \u001b[39m2\u001b[39;49m)\n\u001b[0;32m     <a href='vscode-notebook-cell:/d%3A/UniPro/JoBo/Backend/src/easy/main.ipynb#W4sZmlsZQ%3D%3D?line=21'>22</a>\u001b[0m     \u001b[39m# cv2.rectangle(result, (x, y), (x+w, y+h), (234, 255,123), 2)\u001b[39;00m\n\u001b[0;32m     <a href='vscode-notebook-cell:/d%3A/UniPro/JoBo/Backend/src/easy/main.ipynb#W4sZmlsZQ%3D%3D?line=22'>23</a>\u001b[0m     \u001b[39mprint\u001b[39m(\u001b[39m\"\u001b[39m\u001b[39mx,y,w,h:\u001b[39m\u001b[39m\"\u001b[39m,x,y,w,h)\n",
      "\u001b[1;31merror\u001b[0m: OpenCV(4.8.1) :-1: error: (-5:Bad argument) in function 'polylines'\n> Overload resolution failed:\n>  - Argument 'isClosed' is not convertable to bool\n>  - Argument 'isClosed' is not convertable to bool\n"
     ]
    }
   ],
   "source": [
    "import cv2\n",
    "import numpy as np\n",
    "\n",
    "image_name='two_blobs.jpg'\n",
    "# read image\n",
    "\n",
    "img = cv2.imread(f'../../Tests/test/{image_name}')\n",
    "\n",
    "# convert to grayscale\n",
    "gray = cv2.cvtColor(img,cv2.COLOR_BGR2GRAY)\n",
    "\n",
    "# threshold\n",
    "thresh = cv2.threshold(gray,128,255,cv2.THRESH_BINARY)[1]\n",
    "\n",
    "# get contours\n",
    "result = img.copy()\n",
    "contours = cv2.findContours(thresh, cv2.RETR_EXTERNAL, cv2.CHAIN_APPROX_SIMPLE)\n",
    "contours = contours[0] if len(contours) == 2 else contours[1]\n",
    "for cntr in contours:\n",
    "    x,y,w,h = cv2.boundingRect(cntr)\n",
    "    # cv2.polylines(result, (x, y), (x+w, y+h), (234, 255,123), 2)\n",
    "    cv2.rectangle(result, (x, y), (x+w, y+h), (234, 255,123), 2)\n",
    "    print(\"x,y,w,h:\",x,y,w,h)\n",
    " \n",
    "# save resulting image\n",
    "cv2.imwrite(image_name,result)      \n",
    "\n",
    "# show thresh and result    \n",
    "# cv2.imshow(\"bounding_box\", result)\n",
    "# cv2.waitKey(0)\n",
    "# cv2.destroyAllWindows()\n",
    "\n"
   ]
  },
  {
   "cell_type": "code",
   "execution_count": null,
   "metadata": {},
   "outputs": [],
   "source": []
  }
 ],
 "metadata": {
  "kernelspec": {
   "display_name": "Python 3",
   "language": "python",
   "name": "python3"
  },
  "language_info": {
   "codemirror_mode": {
    "name": "ipython",
    "version": 3
   },
   "file_extension": ".py",
   "mimetype": "text/x-python",
   "name": "python",
   "nbconvert_exporter": "python",
   "pygments_lexer": "ipython3",
   "version": "3.11.5"
  }
 },
 "nbformat": 4,
 "nbformat_minor": 2
}
